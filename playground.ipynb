{
 "cells": [
  {
   "cell_type": "code",
   "execution_count": 3,
   "metadata": {},
   "outputs": [],
   "source": [
    "from openpyxl import Workbook, load_workbook\n",
    "from openpyxl.utils import get_column_letter\n",
    "\n",
    "wb = load_workbook(\"./my_file/change_cell.xlsx\")\n",
    "ws = wb[\"Data\"]\n",
    "\n",
    "# insert row at row three\n",
    "# ws.insert_rows(3)\n",
    "# ws.insert_rows(3)\n",
    "\n",
    "# delete row at row three\n",
    "# ws.delete_rows(3)\n",
    "\n",
    "wb.save(\"./my_file/ins_del_rows.xlsx\")"
   ]
  }
 ],
 "metadata": {
  "kernelspec": {
   "display_name": "Python 3",
   "language": "python",
   "name": "python3"
  },
  "language_info": {
   "codemirror_mode": {
    "name": "ipython",
    "version": 3
   },
   "file_extension": ".py",
   "mimetype": "text/x-python",
   "name": "python",
   "nbconvert_exporter": "python",
   "pygments_lexer": "ipython3",
   "version": "3.11.5"
  },
  "orig_nbformat": 4
 },
 "nbformat": 4,
 "nbformat_minor": 2
}
