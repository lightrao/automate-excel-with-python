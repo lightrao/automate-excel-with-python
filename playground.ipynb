{
 "cells": [
  {
   "cell_type": "code",
   "execution_count": 10,
   "metadata": {},
   "outputs": [
    {
     "name": "stdout",
     "output_type": "stream",
     "text": [
      "<Cell 'Grades'.A1>\n",
      "<class 'openpyxl.cell.cell.Cell'>\n",
      "Name\n",
      "Joe\n"
     ]
    }
   ],
   "source": [
    "from openpyxl import Workbook, load_workbook\n",
    "\n",
    "wb = load_workbook(\"./my_file/Grades.xlsx\")\n",
    "ws = wb.active\n",
    "print(ws[\"A1\"])\n",
    "print(type(ws[\"A1\"]))\n",
    "print(ws[\"A1\"].value)\n",
    "print(ws[\"A2\"].value)\n",
    "\n",
    "ws[\"A2\"].value = \"Test\"\n",
    "\n",
    "wb.save(\"./my_file/Grades_v2.xlsx\")"
   ]
  }
 ],
 "metadata": {
  "kernelspec": {
   "display_name": "Python 3",
   "language": "python",
   "name": "python3"
  },
  "language_info": {
   "codemirror_mode": {
    "name": "ipython",
    "version": 3
   },
   "file_extension": ".py",
   "mimetype": "text/x-python",
   "name": "python",
   "nbconvert_exporter": "python",
   "pygments_lexer": "ipython3",
   "version": "3.11.5"
  },
  "orig_nbformat": 4
 },
 "nbformat": 4,
 "nbformat_minor": 2
}
