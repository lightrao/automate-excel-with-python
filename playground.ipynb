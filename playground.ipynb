{
 "cells": [
  {
   "cell_type": "code",
   "execution_count": 11,
   "metadata": {},
   "outputs": [
    {
     "name": "stdout",
     "output_type": "stream",
     "text": [
      "['Data']\n",
      "I\n",
      "hello\n",
      "how\n",
      "today\n",
      "I am a good man \n",
      "hello nice to meet you \n",
      "how do you do \n",
      "today is sunday \n"
     ]
    }
   ],
   "source": [
    "from openpyxl import Workbook, load_workbook\n",
    "\n",
    "wb = Workbook()\n",
    "ws = wb.active\n",
    "ws.title = \"Data\"\n",
    "print(wb.sheetnames)\n",
    "\n",
    "# adding rows to the end of work sheet\n",
    "ws.append([\"I\", \"am\", \"a\", \"good\", \"man\"])\n",
    "ws.append([\"hello\", \"nice\", \"to\", \"meet\", \"you\"])\n",
    "ws.append([\"how\", \"do\", \"you\", \"do\"])\n",
    "ws.append([\"today\", \"is\", \"sunday\"])\n",
    "\n",
    "wb.save(\"./my_file/append_rows.xlsx\")\n",
    "\n",
    "# print the values of all the non-null cells in column A\n",
    "ws = wb[\"Data\"]  # get the worksheet object by its name\n",
    "for cell in ws[\"A\"]:  # iterate over the cells in column A\n",
    "    if cell.value is not None:  # check if the cell value is not None\n",
    "        print(cell.value)  # print the cell value\n",
    "\n",
    "# print the values of all the non-null cells in the worksheet\n",
    "ws = wb[\"Data\"]  # get the worksheet object by its name\n",
    "for row in ws.values:  # iterate over the rows of values\n",
    "    for value in row:  # iterate over the values in each row\n",
    "        if value is not None:  # check if the value is not None\n",
    "            print(value, end=\" \")  # print the value with a space at the end\n",
    "    print()  # print a newline after each row"
   ]
  }
 ],
 "metadata": {
  "kernelspec": {
   "display_name": "Python 3",
   "language": "python",
   "name": "python3"
  },
  "language_info": {
   "codemirror_mode": {
    "name": "ipython",
    "version": 3
   },
   "file_extension": ".py",
   "mimetype": "text/x-python",
   "name": "python",
   "nbconvert_exporter": "python",
   "pygments_lexer": "ipython3",
   "version": "3.11.5"
  },
  "orig_nbformat": 4
 },
 "nbformat": 4,
 "nbformat_minor": 2
}
