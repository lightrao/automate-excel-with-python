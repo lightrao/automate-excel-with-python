{
 "cells": [
  {
   "cell_type": "code",
   "execution_count": 11,
   "metadata": {},
   "outputs": [
    {
     "name": "stdout",
     "output_type": "stream",
     "text": [
      "['Grades', 'Sheet1', 'Sheet2', 'Sheet3']\n",
      "<Worksheet \"Sheet1\">\n",
      "['Grades', 'Sheet1', 'Sheet2', 'Sheet3', 'Test']\n",
      "['Grades', 'Sheet1', 'Sheet2', 'Sheet3', 'Sheet4']\n",
      "['Grades', 'Sheet1', 'Sheet2', 'Sheet3']\n",
      "['Grades', 'Sheet1', 'Sheet2']\n"
     ]
    }
   ],
   "source": [
    "from openpyxl import Workbook, load_workbook\n",
    "\n",
    "wb = load_workbook(\"./my_file/Grades.xlsx\")\n",
    "# ws = wb.active\n",
    "# print(ws)\n",
    "\n",
    "# list work sheet and get work sheet\n",
    "print(wb.sheetnames)\n",
    "print(wb[\"Sheet1\"])\n",
    "ws = wb[\"Sheet1\"]\n",
    "\n",
    "# create work sheet\n",
    "wb.create_sheet(\"Test\")\n",
    "print(wb.sheetnames)\n",
    "\n",
    "# change work sheet title\n",
    "wb[\"Test\"].title = \"Sheet4\"\n",
    "print(wb.sheetnames)\n",
    "\n",
    "# delete work sheet\n",
    "wb.remove(wb[\"Sheet4\"])\n",
    "print(wb.sheetnames)\n",
    "del wb[\"Sheet3\"]\n",
    "print(wb.sheetnames)\n",
    "\n",
    "# wb.save(\"./my_file/Grades_v2.xlsx\")"
   ]
  }
 ],
 "metadata": {
  "kernelspec": {
   "display_name": "Python 3",
   "language": "python",
   "name": "python3"
  },
  "language_info": {
   "codemirror_mode": {
    "name": "ipython",
    "version": 3
   },
   "file_extension": ".py",
   "mimetype": "text/x-python",
   "name": "python",
   "nbconvert_exporter": "python",
   "pygments_lexer": "ipython3",
   "version": "3.11.5"
  },
  "orig_nbformat": 4
 },
 "nbformat": 4,
 "nbformat_minor": 2
}
