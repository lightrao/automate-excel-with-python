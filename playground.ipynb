{
 "cells": [
  {
   "cell_type": "code",
   "execution_count": 6,
   "metadata": {},
   "outputs": [],
   "source": [
    "from openpyxl import Workbook, load_workbook\n",
    "from openpyxl.utils import get_column_letter\n",
    "from openpyxl.utils.cell import column_index_from_string\n",
    "\n",
    "wb = load_workbook(\"./my_file/change_cell.xlsx\")\n",
    "ws = wb[\"Data\"]\n",
    "\n",
    "# insert at colums 4\n",
    "# ws.insert_cols(4)\n",
    "\n",
    "# delete at colums 3\n",
    "ws.delete_cols(column_index_from_string(\"C\"))\n",
    "\n",
    "wb.save(\"./my_file/ins_del_colums.xlsx\")"
   ]
  }
 ],
 "metadata": {
  "kernelspec": {
   "display_name": "Python 3",
   "language": "python",
   "name": "python3"
  },
  "language_info": {
   "codemirror_mode": {
    "name": "ipython",
    "version": 3
   },
   "file_extension": ".py",
   "mimetype": "text/x-python",
   "name": "python",
   "nbconvert_exporter": "python",
   "pygments_lexer": "ipython3",
   "version": "3.11.5"
  },
  "orig_nbformat": 4
 },
 "nbformat": 4,
 "nbformat_minor": 2
}
