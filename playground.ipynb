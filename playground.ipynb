{
 "cells": [
  {
   "cell_type": "code",
   "execution_count": 10,
   "metadata": {},
   "outputs": [],
   "source": [
    "from openpyxl import Workbook, load_workbook\n",
    "from openpyxl.utils import get_column_letter\n",
    "from openpyxl.styles import Font\n",
    "from openpyxl.styles import Alignment\n",
    "\n",
    "data = {\n",
    "    \"Joe\": {\"math\": 65, \"science\": 78, \"english\": 98, \"gym\": 89},\n",
    "    \"Bill\": {\"math\": 55, \"science\": 72, \"english\": 87, \"gym\": 95},\n",
    "    \"Tim\": {\"math\": 100, \"science\": 45, \"english\": 75, \"gym\": 92},\n",
    "    \"Sally\": {\"math\": 30, \"science\": 25, \"english\": 45, \"gym\": 100},\n",
    "    \"Jane\": {\"math\": 100, \"science\": 100, \"english\": 100, \"gym\": 60},\n",
    "}\n",
    "\n",
    "# want to write data into a spreadsheet\n",
    "wb = Workbook()\n",
    "ws = wb.active\n",
    "ws.title = \"Grades\"\n",
    "\n",
    "# write headings\n",
    "headings = [\"Name\"] + list(data[\"Joe\"].keys())\n",
    "ws.append(headings)\n",
    "\n",
    "# write grades of every person\n",
    "for person in data:\n",
    "    grades = list(data[person].values())\n",
    "    ws.append([person] + grades)\n",
    "\n",
    "# caculate average of grades for every course\n",
    "for col in range(2, len(data[\"Joe\"]) + 2):\n",
    "    col_letter = get_column_letter(col)\n",
    "    ws[col_letter + \"7\"] = f\"=SUM({col_letter+'2'}:{col_letter+'6'})/{len(data)}\"\n",
    "\n",
    "# style cell\n",
    "# https://openpyxl.readthedocs.io/en/stable/styles.html\n",
    "for col in range(1, 6):\n",
    "    ws[get_column_letter(col) + \"1\"].font = Font(bold=True, color=\"00FF0000\")\n",
    "    ws[get_column_letter(col) + \"1\"].alignment = Alignment(\n",
    "        horizontal=\"right\", vertical=\"center\"\n",
    "    )\n",
    "\n",
    "# save work book\n",
    "wb.save(\"./my_file/NewGrades.xlsx\")"
   ]
  }
 ],
 "metadata": {
  "kernelspec": {
   "display_name": "Python 3",
   "language": "python",
   "name": "python3"
  },
  "language_info": {
   "codemirror_mode": {
    "name": "ipython",
    "version": 3
   },
   "file_extension": ".py",
   "mimetype": "text/x-python",
   "name": "python",
   "nbconvert_exporter": "python",
   "pygments_lexer": "ipython3",
   "version": "3.11.5"
  },
  "orig_nbformat": 4
 },
 "nbformat": 4,
 "nbformat_minor": 2
}
