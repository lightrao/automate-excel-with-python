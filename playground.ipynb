{
 "cells": [
  {
   "cell_type": "code",
   "execution_count": 5,
   "metadata": {},
   "outputs": [
    {
     "name": "stdout",
     "output_type": "stream",
     "text": [
      "Help on package openpyxl:\n",
      "\n",
      "NAME\n",
      "    openpyxl - # Copyright (c) 2010-2023 openpyxl\n",
      "\n",
      "PACKAGE CONTENTS\n",
      "    _constants\n",
      "    cell (package)\n",
      "    chart (package)\n",
      "    chartsheet (package)\n",
      "    comments (package)\n",
      "    compat (package)\n",
      "    descriptors (package)\n",
      "    drawing (package)\n",
      "    formatting (package)\n",
      "    formula (package)\n",
      "    packaging (package)\n",
      "    pivot (package)\n",
      "    reader (package)\n",
      "    styles (package)\n",
      "    utils (package)\n",
      "    workbook (package)\n",
      "    worksheet (package)\n",
      "    writer (package)\n",
      "    xml (package)\n",
      "\n",
      "SUBMODULES\n",
      "    constants\n",
      "\n",
      "DATA\n",
      "    DEBUG = False\n",
      "    DEFUSEDXML = False\n",
      "    LXML = False\n",
      "    NUMPY = False\n",
      "    __author_email__ = 'charlie.clark@clark-consulting.eu'\n",
      "    __license__ = 'MIT'\n",
      "    __maintainer_email__ = 'openpyxl-users@googlegroups.com'\n",
      "    __url__ = 'https://openpyxl.readthedocs.io'\n",
      "\n",
      "VERSION\n",
      "    3.1.2\n",
      "\n",
      "AUTHOR\n",
      "    See AUTHORS\n",
      "\n",
      "FILE\n",
      "    /Users/lightrao/Desktop/LightTechZen/codeWithLight/youtube/TechWithTim/高效办公 用Python轻松操作Excel/automate-excel-with-python/.venv/lib/python3.11/site-packages/openpyxl/__init__.py\n",
      "\n",
      "\n"
     ]
    }
   ],
   "source": [
    "import openpyxl\n",
    "\n",
    "help(openpyxl)"
   ]
  }
 ],
 "metadata": {
  "kernelspec": {
   "display_name": "Python 3",
   "language": "python",
   "name": "python3"
  },
  "language_info": {
   "codemirror_mode": {
    "name": "ipython",
    "version": 3
   },
   "file_extension": ".py",
   "mimetype": "text/x-python",
   "name": "python",
   "nbconvert_exporter": "python",
   "pygments_lexer": "ipython3",
   "version": "3.11.5"
  },
  "orig_nbformat": 4
 },
 "nbformat": 4,
 "nbformat_minor": 2
}
