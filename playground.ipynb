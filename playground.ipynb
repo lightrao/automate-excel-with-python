{
 "cells": [
  {
   "cell_type": "code",
   "execution_count": 14,
   "metadata": {},
   "outputs": [],
   "source": [
    "from openpyxl import Workbook, load_workbook\n",
    "from openpyxl.utils import get_column_letter\n",
    "\n",
    "wb = load_workbook(\"./my_file/append_rows.xlsx\")\n",
    "ws = wb[\"Data\"]\n",
    "\n",
    "for row in range(1, 6):\n",
    "    for col in range(1, 6):\n",
    "        col_letter = get_column_letter(col)\n",
    "        # print(ws[col_letter + str(row)].value, end=\" \")\n",
    "        ws[col_letter + str(row)].value = col_letter + str(row)\n",
    "    # print()\n",
    "\n",
    "wb.save(\"./my_file/change_cell.xlsx\")"
   ]
  }
 ],
 "metadata": {
  "kernelspec": {
   "display_name": "Python 3",
   "language": "python",
   "name": "python3"
  },
  "language_info": {
   "codemirror_mode": {
    "name": "ipython",
    "version": 3
   },
   "file_extension": ".py",
   "mimetype": "text/x-python",
   "name": "python",
   "nbconvert_exporter": "python",
   "pygments_lexer": "ipython3",
   "version": "3.11.5"
  },
  "orig_nbformat": 4
 },
 "nbformat": 4,
 "nbformat_minor": 2
}
